{
 "cells": [
  {
   "cell_type": "markdown",
   "metadata": {},
   "source": [
    "## Question 1: Write a program that rolls a 7 faced die 100 times and then tells you the number of 1s, 2s, 3s,..and 7s. It should also provide a graphical display of the frequencies.\n",
    "\n",
    "    First run:\n",
    "    Frequencies:\n",
    "    Number of 1s: 13\n",
    "    Number of 2s: 18\n",
    "    Number of 3s: 15\n",
    "    Number of 4s: 12\n",
    "    Number of 5s: 15\n",
    "    Number of 6s: 13\n",
    "    Number of 7s: 15\n",
    "    1 *************\n",
    "    2 ******************\n",
    "    3 ***************\n",
    "    4 ************\n",
    "    5 ***************\n",
    "    6 *************\n",
    "Execute Command: Run the cell below to get the output."
   ]
  },
  {
   "cell_type": "code",
   "execution_count": 3,
   "metadata": {
    "scrolled": true
   },
   "outputs": [
    {
     "name": "stdout",
     "output_type": "stream",
     "text": [
      "Number of 1s: 19\n",
      "Number of 2s: 12\n",
      "Number of 3s: 14\n",
      "Number of 4s: 16\n",
      "Number of 5s: 13\n",
      "Number of 6s: 11\n",
      "Number of 7s: 15\n",
      "1 *******************\n",
      "2 ************\n",
      "3 **************\n",
      "4 ****************\n",
      "5 *************\n",
      "6 ***********\n",
      "7 ***************\n"
     ]
    }
   ],
   "source": [
    "import random # importing the random library to use randint function.\n",
    "NUM_OF_DICE_SIDES = 7 # declaring the sides on the dice.\n",
    "NUM_OF_ROLES = 100 # declaring the number of roles required for this task.\n",
    "response_arr=[0]*NUM_OF_DICE_SIDES # Initialize the array with 0 count for each integer from 1 to 7\n",
    "\n",
    "for i in range(NUM_OF_ROLES): # Run following commands NUM_OF_ROLES time\n",
    "    response_arr[random.randint(0,NUM_OF_DICE_SIDES-1)]+=1 # increase the number of occurances by one in selected index vavlue.\n",
    "\n",
    "for i in range(NUM_OF_DICE_SIDES): # Run the loop NUM_OF_DICE_SIDES time\n",
    "    print(\"Number of {}s: {}\".format(i+1, response_arr[i])) # Print the value with the number of occurance of each side.\n",
    "\n",
    "for i in range(NUM_OF_DICE_SIDES):# Run the loop NUM_OF_DICE_SIDES time\n",
    "    print(\"{} {}\".format(i+1, \"*\"*response_arr[i])) # print the \"*\" for the number of occurance of the each side.\n"
   ]
  },
  {
   "cell_type": "markdown",
   "metadata": {},
   "source": [
    "## Question 2: Write a program where the user and the program/computer play a number guessing game. The program should prompt the user for an integer (between 1 and 100, inclusive) then the program/computer has to guess what the user entered. Keep track of the number of iterations it takes for the computer to guess the number.\n",
    "\n",
    "    Enter number to be guessed: 88\n",
    "    You entered 88, and it took the program 3 iterations to guess\n",
    "    Enter number to be guessed: 55\n",
    "    You entered 55, and it took the program 19 iterations to guess\n",
    "    \n",
    "Execute Command: Run the cell below and Input the number for the computer to guess, if the input is valid{Integer, between the range of 1,100 inclusive} the computer will run the loop to guess the same number and displays the output. "
   ]
  },
  {
   "cell_type": "code",
   "execution_count": 7,
   "metadata": {},
   "outputs": [
    {
     "name": "stdout",
     "output_type": "stream",
     "text": [
      "Enter number to be guessed: 22\n",
      "You entered 22, and it took the program 26 iterations to guess\n"
     ]
    }
   ],
   "source": [
    "import random # import the random library to use random randint\n",
    "LOW = 1 # Declare the Low range of the number to enter.\n",
    "HIGH = 100 # Declare the High range of the number to enter.\n",
    "# Ask user for input\n",
    "user_input = input(\"Enter number to be guessed: \")\n",
    "process_failed = False\n",
    "try:\n",
    "    user_input = int(user_input) # Try to convert the string into a int, will fail if it's a string or float.\n",
    "    if user_input<LOW or user_input>HIGH: # If the user_input is correct, we need to check the range of this number\n",
    "        raise ValueError # If the number is not in our range, raise an exception and exit the code.\n",
    "except:\n",
    "    print(\"Error: Program accept only integer value between {} and {}\".format(LOW,HIGH))\n",
    "    process_failed = True # Couldn't Find a proper alternative of exit in Jupyter notebook\n",
    "\n",
    "if process_failed ==False:\n",
    "    guess_num = None # Initialize the guess number as None \n",
    "    iterations = 0 # Initialize the Count of the iterations \n",
    "    while(guess_num!=user_input): # Continue to loop until the guess_num is not user_input\n",
    "        iterations+=1 # Increment when the count of iterations each time.\n",
    "        guess_num = random.randint(LOW,HIGH)\n",
    "    # When we are out of the loop, it means we have found the guess to be user input\n",
    "    print(\"You entered {}, and it took the program {} iterations to guess\".format(user_input, iterations)) # Finally print the result."
   ]
  },
  {
   "cell_type": "markdown",
   "metadata": {},
   "source": [
    "## Question 3: Write a function that accepts a line of text and a single letter as input (case insensitive) and returns the number of times the letter is the first character of a word\n",
    "\n",
    "    Enter your line of text: All the world’s a stage, and all the men and women\n",
    "    merely players. They have their exits and their entrances; And one man in his\n",
    "    time plays many parts.\n",
    "    Enter your letter to use: m\n",
    "    Your letter m occurs as the first letter: 3 times"
   ]
  },
  {
   "cell_type": "code",
   "execution_count": 9,
   "metadata": {},
   "outputs": [
    {
     "name": "stdout",
     "output_type": "stream",
     "text": [
      "Enter your line of text: All the world’s a stage, and all the men and women     merely players. They have their exits and their entrances; And one man in his     time plays many parts.\n",
      "Enter your letter to use: m\n",
      "Your letter m occurs as the first letter: 4 times\n"
     ]
    }
   ],
   "source": [
    "def find_word_begins(para, char): # Function to compute the words of in para that starts with char (case insensitive) \n",
    "    word_b = 0 # word begin with the char are initially 0\n",
    "    for word in para.split(): # use split to get list of words in the para.\n",
    "        if word[0].lower()==char.lower(): # comparing the lower version of word first character with given char,\n",
    "            word_b+=1 # if char is the first char then increase the count by one.\n",
    "    return word_b # return the count of words with char at the starting.\n",
    "\n",
    "process_failed = False # Using it to say that there's an error in the input and don't compute the result.\n",
    "\n",
    "user_para = input(\"Enter your line of text: \") # Takes input from the user text.\n",
    "if len(user_para) == 0: # if len is 0 then return an error\n",
    "    print(\"The entered text has to characters in it. Please enter a string. \") # Print error indicate user \n",
    "    process_failed = True # Keeping track of the error.\n",
    "\n",
    "if process_failed ==False: # Check if there's an error in user input, if not proceed else stop.\n",
    "    user_char = input(\"Enter your letter to use: \") # Ask for the chracter.\n",
    "    if len(user_char)!=1:\n",
    "        print(\"The char you enter is not 1. Please enter a single char.\") # If there is more than one char enter return error.\n",
    "        process_failed = True\n",
    "    if process_failed==False: # Check if there in no error in code so far.\n",
    "        letter_appearance = find_word_begins(user_para, user_char) # Call the function to return the number of words with char\n",
    "        print(\"Your letter {} occurs as the first letter: {} times\".format(user_char, letter_appearance)) # print the required result"
   ]
  },
  {
   "cell_type": "markdown",
   "metadata": {},
   "source": [
    "## Question 4: A Pangram is a sentence that contains every letter in the English alphabet. For example “The quick brown fox jumps over the lazy dog” is a pangram. Write a Python program to check if a string given by the user is a pangram or not. In addition, if the sentence is not a pangram, your programshould output the letters that were missing to make it a pangram.\n",
    "\n",
    "    Enter a string: The quick brown fox jumps over the lazy dog\n",
    "    The given string is a pangram\n",
    "Execute Command: Run the cell below, enter the string to test for pangram, program will return if it is pangram or not."
   ]
  },
  {
   "cell_type": "code",
   "execution_count": 20,
   "metadata": {},
   "outputs": [
    {
     "name": "stdout",
     "output_type": "stream",
     "text": [
      "Enter a string: The five boxing wizards jump quickly.\n",
      "The given string is a pangram\n"
     ]
    }
   ],
   "source": [
    "# Program to check if the string is pangram.\n",
    "char_map = [True]*26 # we create the char_map to keep track of the characters in out sentence.\n",
    "user_input = input(\"Enter a string: \") # accept the string from the user.\n",
    "user_input = user_input.lower() # we're only comparing the lower case char in the string.\n",
    "for i in user_input: # Iterate over the entire list one char at a time\n",
    "    if \"a\"<=i<=\"z\": # Only consider the character between a and z ignore space period newline and exlaimations.\n",
    "        char_map[ord(i)-97] = False # If an character is found char_map is set to false, ord returns ascii value of character.\n",
    "if any(char_map): # Check if array has any True in char map --> there is some character missing in string. \n",
    "    print(\"The given string is not a pangram, you are missing the letters: \", end=\"\") # end=\"\" is used to avoid \\n at end of print\n",
    "    for ind,char in enumerate(char_map,97): # check all the list element and search for True, if there is true then print the work\n",
    "        if char==True:\n",
    "            print(\"{} \".format(chr(ind)),end=\"\") # chr is used to convert ascii to character. \n",
    "else: # All the element in char_map is false indicating that string has all the character in it.\n",
    "    print(\"The given string is a pangram\")"
   ]
  },
  {
   "cell_type": "markdown",
   "metadata": {},
   "source": [
    "## Question 5: Write a program to request a file name from the user and calculate the following statistics of the contents of the file:\n",
    "* Number of lines\n",
    "* Number of words\n",
    "* Number of characters\n",
    "* Average length of a word\n",
    "\n",
    "In this problem use the following definitions:\n",
    "\n",
    "* A line is a sequence of characters that end with a newline (\\n) character \n",
    "* A word bounded by one or more spaces (or \\n) on either side of it (or both sides)\n",
    "* A character is any single length string, e.g. ‘a’, ‘-‘, etc. but not a space (or white space)\n",
    "\n",
    "        What is the filename: Shakespeare.txt\n",
    "        Number of lines:\n",
    "        Number of words:\n",
    "        Number of characters:\n",
    "        Average length of a word:\n",
    "Command execute :  Run the cell below, enter the File name. Program will print the lines, words, characters in the file. "
   ]
  },
  {
   "cell_type": "code",
   "execution_count": 22,
   "metadata": {},
   "outputs": [
    {
     "name": "stdout",
     "output_type": "stream",
     "text": [
      "What is the filename: Shakespeare.txt\n",
      "Number of lines:  14\n",
      "Number of words:  103\n",
      "Number of characters:  470\n",
      "Average length of a word:  4.563106796116505\n"
     ]
    }
   ],
   "source": [
    "process_failed = False\n",
    "user_filename = input(\"What is the filename: \") # Accept the file name from user....\n",
    "try:\n",
    "    f = open(user_filename, mode = \"r\", encoding = \"ISO-8859-1\") # Using encoding \"ISO-8859-1\" to open the given file.. on Linux.\n",
    "except:\n",
    "    print(\"Failed to open the file {}.\".format(user_filename))\n",
    "    process_failed = True\n",
    "if process_failed == False:\n",
    "    word = f.read() # read all the content in the file, make sure not to open file too big.\n",
    "    f.seek(0) # after the read, file pointer reaches to end, reset it to start for futher reading.\n",
    "    num_of_lines = len(f.readlines()) # Returns the lines in the file as list, record the len of the returned list.\n",
    "    num_of_words = len(word.split()) # Return the list of words in the in the file \n",
    "    num_of_char = 0 # setting the default value to 0\n",
    "    for i in word.split(): #  get the list of words from the content of the file.\n",
    "        num_of_char+=len(i) # Simply add the length of words from to be counted as characters\n",
    "    print(\"Number of lines: \", num_of_lines) # Print Lines\n",
    "    print(\"Number of words: \", num_of_words) # Print Words\n",
    "    print(\"Number of characters: \", num_of_char) # Print Character\n",
    "    print(\"Average length of a word: \", num_of_char/num_of_words) # Avg... num_of_char / num_of_words"
   ]
  }
 ],
 "metadata": {
  "kernelspec": {
   "display_name": "Python 3",
   "language": "python",
   "name": "python3"
  },
  "language_info": {
   "codemirror_mode": {
    "name": "ipython",
    "version": 3
   },
   "file_extension": ".py",
   "mimetype": "text/x-python",
   "name": "python",
   "nbconvert_exporter": "python",
   "pygments_lexer": "ipython3",
   "version": "3.6.5"
  }
 },
 "nbformat": 4,
 "nbformat_minor": 2
}
